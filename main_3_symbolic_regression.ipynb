{
 "cells": [
  {
   "cell_type": "code",
   "execution_count": 1,
   "id": "a0858da0-60d3-4dd2-aeaa-792ea64d1418",
   "metadata": {
    "tags": []
   },
   "outputs": [],
   "source": [
    "import os\n",
    "import pandas as pd\n",
    "import numpy as np\n",
    "# import matplotlib.pyplot as plt\n",
    "from pysr import PySRRegressor\n",
    "\n",
    "import warnings\n",
    "warnings.filterwarnings(\"ignore\")\n",
    "\n",
    "start_date = \"2010-01-01\"\n",
    "end_date = \"2020-01-01\""
   ]
  },
  {
   "cell_type": "code",
   "execution_count": 2,
   "id": "17c710c7-a41a-411a-803e-3975acad78da",
   "metadata": {
    "tags": []
   },
   "outputs": [],
   "source": [
    "# Read the macro factors from paper \"A Comprehensive Look at The Empirical Performance of Equity Premium Prediction\"\n",
    "# Source: https://sites.google.com/view/agoyal145\n",
    "# Source: https://docs.google.com/spreadsheets/d/1g4LOaRj4TvwJr9RIaA_nwrXXWTOy46bP/edit#gid=2070662242\n",
    "\n",
    "factors_annual = pd.read_excel(\"data_clean/macro_factors.xlsx\", sheet_name = \"Annual\", index_col = 0)\n",
    "factors_monthly = pd.read_excel(\"data_clean/macro_factors.xlsx\", sheet_name = \"Monthly\", index_col = 0)\n",
    "\n",
    "factors_annual.index = pd.to_datetime(factors_annual.index, format='%Y')\n",
    "factors_monthly.index = pd.to_datetime(factors_monthly.index, format='%Y%m')\n",
    "\n",
    "factors_annual = factors_annual.iloc[(factors_annual.index >= start_date) & (factors_annual.index < end_date), 3:].dropna(axis=1)\n",
    "factors_monthly = factors_monthly.iloc[(factors_monthly.index >= start_date) & (factors_monthly.index < end_date), 3:].dropna(axis=1)"
   ]
  },
  {
   "cell_type": "code",
   "execution_count": 3,
   "id": "5420c20e-db96-4cf7-8da7-d5f5609358fe",
   "metadata": {
    "tags": []
   },
   "outputs": [],
   "source": [
    "# Read the portfolio weights long-format produced by main_1_get_weight.ipynb\n",
    "file_names = os.listdir('portfolio_weights')\n",
    "file_names = [file for file in file_names if os.path.isfile(os.path.join('portfolio_weights', file))]\n",
    "file_names_annual = [string for string in file_names if \"annual\" in string]\n",
    "file_names_monthly = [string for string in file_names if \"month\" in string]\n",
    "\n",
    "names_annual = [file_names_annual.replace('weight_annual_', '').replace('.csv', '') for file_names_annual in file_names_annual]\n",
    "names_monthly = [file_names_monthly.replace('weight_monthly_', '').replace('.csv', '') for file_names_monthly in file_names_monthly]\n",
    "\n",
    "weights_annual = {}\n",
    "for i in range(len(file_names_annual)):\n",
    "    file = file_names_annual[i]\n",
    "    strategy_name = names_annual[i]\n",
    "    tmp_weight = pd.read_csv(\"portfolio_weights/\" + file)\n",
    "    tmp_weight[\"Date\"] = pd.to_datetime(tmp_weight[\"Date\"])\n",
    "    tmp_weight = tmp_weight.pivot(index = \"Date\", columns = \"Ticker\", values = \"Weight\")[::252]\n",
    "    weights_annual[strategy_name] = tmp_weight\n",
    "    \n",
    "weights_monthly = {}\n",
    "for i in range(len(file_names_monthly)):\n",
    "    file = file_names_monthly[i]\n",
    "    strategy_name = names_monthly[i]\n",
    "    tmp_weight = pd.read_csv(\"portfolio_weights/\" + file)\n",
    "    tmp_weight[\"Date\"] = pd.to_datetime(tmp_weight[\"Date\"])\n",
    "    tmp_weight = tmp_weight.pivot(index = \"Date\", columns = \"Ticker\", values = \"Weight\")[::21]\n",
    "    weights_monthly[strategy_name] = tmp_weight"
   ]
  },
  {
   "cell_type": "markdown",
   "id": "bef2b479-fd49-4b23-8d6f-6ea1251a5ea3",
   "metadata": {
    "tags": []
   },
   "source": [
    "# Symbolic Regression on Annual Weight"
   ]
  },
  {
   "cell_type": "code",
   "execution_count": 4,
   "id": "fc321d8f-9704-49de-8f7a-608ebb383270",
   "metadata": {
    "tags": []
   },
   "outputs": [
    {
     "name": "stdout",
     "output_type": "stream",
     "text": [
      "Compiling Julia backend...\n"
     ]
    },
    {
     "ename": "ImportError",
     "evalue": "\n    Required dependencies are not installed or built.  Run the following command in your terminal:\n        python3 -m pysr install\n    ",
     "output_type": "error",
     "traceback": [
      "\u001b[1;31m---------------------------------------------------------------------------\u001b[0m",
      "\u001b[1;31mJuliaError\u001b[0m                                Traceback (most recent call last)",
      "File \u001b[1;32m~\\anaconda3\\envs\\pysr\\Lib\\site-packages\\pysr\\julia_helpers.py:329\u001b[0m, in \u001b[0;36m_load_backend\u001b[1;34m(Main)\u001b[0m\n\u001b[0;32m    327\u001b[0m \u001b[38;5;28;01mtry\u001b[39;00m:\n\u001b[0;32m    328\u001b[0m     \u001b[38;5;66;03m# Load namespace, so that various internal operators work:\u001b[39;00m\n\u001b[1;32m--> 329\u001b[0m     Main\u001b[38;5;241m.\u001b[39meval(\u001b[38;5;124m\"\u001b[39m\u001b[38;5;124musing SymbolicRegression\u001b[39m\u001b[38;5;124m\"\u001b[39m)\n\u001b[0;32m    330\u001b[0m \u001b[38;5;28;01mexcept\u001b[39;00m (JuliaError, \u001b[38;5;167;01mRuntimeError\u001b[39;00m) \u001b[38;5;28;01mas\u001b[39;00m e:\n",
      "File \u001b[1;32m~\\anaconda3\\envs\\pysr\\Lib\\site-packages\\julia\\core.py:627\u001b[0m, in \u001b[0;36mJulia.eval\u001b[1;34m(self, src)\u001b[0m\n\u001b[0;32m    626\u001b[0m     \u001b[38;5;28;01mreturn\u001b[39;00m \u001b[38;5;28;01mNone\u001b[39;00m\n\u001b[1;32m--> 627\u001b[0m ans \u001b[38;5;241m=\u001b[39m \u001b[38;5;28mself\u001b[39m\u001b[38;5;241m.\u001b[39m_call(src)\n\u001b[0;32m    628\u001b[0m \u001b[38;5;28;01mif\u001b[39;00m \u001b[38;5;129;01mnot\u001b[39;00m ans:\n",
      "File \u001b[1;32m~\\anaconda3\\envs\\pysr\\Lib\\site-packages\\julia\\core.py:555\u001b[0m, in \u001b[0;36mJulia._call\u001b[1;34m(self, src)\u001b[0m\n\u001b[0;32m    554\u001b[0m ans \u001b[38;5;241m=\u001b[39m \u001b[38;5;28mself\u001b[39m\u001b[38;5;241m.\u001b[39mapi\u001b[38;5;241m.\u001b[39mjl_eval_string(src\u001b[38;5;241m.\u001b[39mencode(\u001b[38;5;124m'\u001b[39m\u001b[38;5;124mutf-8\u001b[39m\u001b[38;5;124m'\u001b[39m))\n\u001b[1;32m--> 555\u001b[0m \u001b[38;5;28mself\u001b[39m\u001b[38;5;241m.\u001b[39mcheck_exception(src)\n\u001b[0;32m    557\u001b[0m \u001b[38;5;28;01mreturn\u001b[39;00m ans\n",
      "File \u001b[1;32m~\\anaconda3\\envs\\pysr\\Lib\\site-packages\\julia\\core.py:609\u001b[0m, in \u001b[0;36mJulia.check_exception\u001b[1;34m(self, src)\u001b[0m\n\u001b[0;32m    608\u001b[0m     exception \u001b[38;5;241m=\u001b[39m sprint(showerror, \u001b[38;5;28mself\u001b[39m\u001b[38;5;241m.\u001b[39m_as_pyobj(res))\n\u001b[1;32m--> 609\u001b[0m \u001b[38;5;28;01mraise\u001b[39;00m JuliaError(\u001b[38;5;124mu\u001b[39m\u001b[38;5;124m'\u001b[39m\u001b[38;5;124mException \u001b[39m\u001b[38;5;130;01m\\'\u001b[39;00m\u001b[38;5;132;01m{}\u001b[39;00m\u001b[38;5;130;01m\\'\u001b[39;00m\u001b[38;5;124m occurred while calling julia code:\u001b[39m\u001b[38;5;130;01m\\n\u001b[39;00m\u001b[38;5;132;01m{}\u001b[39;00m\u001b[38;5;124m'\u001b[39m\n\u001b[0;32m    610\u001b[0m                  \u001b[38;5;241m.\u001b[39mformat(exception, src))\n",
      "\u001b[1;31mJuliaError\u001b[0m: Exception 'ArgumentError: Package SymbolicRegression not found in current path.\n- Run `import Pkg; Pkg.add(\"SymbolicRegression\")` to install the SymbolicRegression package.' occurred while calling julia code:\nusing SymbolicRegression",
      "\nThe above exception was the direct cause of the following exception:\n",
      "\u001b[1;31mImportError\u001b[0m                               Traceback (most recent call last)",
      "Cell \u001b[1;32mIn[4], line 15\u001b[0m\n\u001b[0;32m      2\u001b[0m y \u001b[38;5;241m=\u001b[39m weights_annual[\u001b[38;5;124m\"\u001b[39m\u001b[38;5;124msae3CNNlstm\u001b[39m\u001b[38;5;124m\"\u001b[39m]\n\u001b[0;32m      6\u001b[0m model \u001b[38;5;241m=\u001b[39m PySRRegressor(\n\u001b[0;32m      7\u001b[0m     niterations\u001b[38;5;241m=\u001b[39m\u001b[38;5;241m40\u001b[39m,  \u001b[38;5;66;03m# < Increase me for better results\u001b[39;00m\n\u001b[0;32m      8\u001b[0m     binary_operators\u001b[38;5;241m=\u001b[39m[\u001b[38;5;124m\"\u001b[39m\u001b[38;5;124m+\u001b[39m\u001b[38;5;124m\"\u001b[39m, \u001b[38;5;124m\"\u001b[39m\u001b[38;5;124m*\u001b[39m\u001b[38;5;124m\"\u001b[39m],\n\u001b[1;32m   (...)\u001b[0m\n\u001b[0;32m     12\u001b[0m     \u001b[38;5;66;03m# ^ Custom loss function (julia syntax)\u001b[39;00m\n\u001b[0;32m     13\u001b[0m )\n\u001b[1;32m---> 15\u001b[0m model\u001b[38;5;241m.\u001b[39mfit(x, y)\n",
      "File \u001b[1;32m~\\anaconda3\\envs\\pysr\\Lib\\site-packages\\pysr\\sr.py:1970\u001b[0m, in \u001b[0;36mPySRRegressor.fit\u001b[1;34m(self, X, y, Xresampled, weights, variable_names, X_units, y_units)\u001b[0m\n\u001b[0;32m   1967\u001b[0m     \u001b[38;5;28mself\u001b[39m\u001b[38;5;241m.\u001b[39m_checkpoint()\n\u001b[0;32m   1969\u001b[0m \u001b[38;5;66;03m# Perform the search:\u001b[39;00m\n\u001b[1;32m-> 1970\u001b[0m \u001b[38;5;28mself\u001b[39m\u001b[38;5;241m.\u001b[39m_run(X, y, mutated_params, weights\u001b[38;5;241m=\u001b[39mweights, seed\u001b[38;5;241m=\u001b[39mseed)\n\u001b[0;32m   1972\u001b[0m \u001b[38;5;66;03m# Then, after fit, we save again, so the pickle file contains\u001b[39;00m\n\u001b[0;32m   1973\u001b[0m \u001b[38;5;66;03m# the equations:\u001b[39;00m\n\u001b[0;32m   1974\u001b[0m \u001b[38;5;28;01mif\u001b[39;00m \u001b[38;5;129;01mnot\u001b[39;00m \u001b[38;5;28mself\u001b[39m\u001b[38;5;241m.\u001b[39mtemp_equation_file:\n",
      "File \u001b[1;32m~\\anaconda3\\envs\\pysr\\Lib\\site-packages\\pysr\\sr.py:1638\u001b[0m, in \u001b[0;36mPySRRegressor._run\u001b[1;34m(self, X, y, mutated_params, weights, seed)\u001b[0m\n\u001b[0;32m   1633\u001b[0m     io_arg \u001b[38;5;241m=\u001b[39m (\n\u001b[0;32m   1634\u001b[0m         \u001b[38;5;124mf\u001b[39m\u001b[38;5;124m\"\u001b[39m\u001b[38;5;124mio=\u001b[39m\u001b[38;5;132;01m{\u001b[39;00mio\u001b[38;5;132;01m}\u001b[39;00m\u001b[38;5;124m\"\u001b[39m \u001b[38;5;28;01mif\u001b[39;00m is_julia_version_greater_eq(version\u001b[38;5;241m=\u001b[39m(\u001b[38;5;241m1\u001b[39m, \u001b[38;5;241m6\u001b[39m, \u001b[38;5;241m0\u001b[39m)) \u001b[38;5;28;01melse\u001b[39;00m \u001b[38;5;124m\"\u001b[39m\u001b[38;5;124m\"\u001b[39m\n\u001b[0;32m   1635\u001b[0m     )\n\u001b[0;32m   1636\u001b[0m     _update_julia_project(Main, is_shared, io_arg)\n\u001b[1;32m-> 1638\u001b[0m SymbolicRegression \u001b[38;5;241m=\u001b[39m _load_backend(Main)\n\u001b[0;32m   1640\u001b[0m Main\u001b[38;5;241m.\u001b[39mplus \u001b[38;5;241m=\u001b[39m Main\u001b[38;5;241m.\u001b[39meval(\u001b[38;5;124m\"\u001b[39m\u001b[38;5;124m(+)\u001b[39m\u001b[38;5;124m\"\u001b[39m)\n\u001b[0;32m   1641\u001b[0m Main\u001b[38;5;241m.\u001b[39msub \u001b[38;5;241m=\u001b[39m Main\u001b[38;5;241m.\u001b[39meval(\u001b[38;5;124m\"\u001b[39m\u001b[38;5;124m(-)\u001b[39m\u001b[38;5;124m\"\u001b[39m)\n",
      "File \u001b[1;32m~\\anaconda3\\envs\\pysr\\Lib\\site-packages\\pysr\\julia_helpers.py:331\u001b[0m, in \u001b[0;36m_load_backend\u001b[1;34m(Main)\u001b[0m\n\u001b[0;32m    329\u001b[0m     Main\u001b[38;5;241m.\u001b[39meval(\u001b[38;5;124m\"\u001b[39m\u001b[38;5;124musing SymbolicRegression\u001b[39m\u001b[38;5;124m\"\u001b[39m)\n\u001b[0;32m    330\u001b[0m \u001b[38;5;28;01mexcept\u001b[39;00m (JuliaError, \u001b[38;5;167;01mRuntimeError\u001b[39;00m) \u001b[38;5;28;01mas\u001b[39;00m e:\n\u001b[1;32m--> 331\u001b[0m     \u001b[38;5;28;01mraise\u001b[39;00m \u001b[38;5;167;01mImportError\u001b[39;00m(_import_error()) \u001b[38;5;28;01mfrom\u001b[39;00m \u001b[38;5;21;01me\u001b[39;00m\n\u001b[0;32m    333\u001b[0m _backend_version_assertion(Main)\n\u001b[0;32m    335\u001b[0m \u001b[38;5;66;03m# Load Julia package SymbolicRegression.jl\u001b[39;00m\n",
      "\u001b[1;31mImportError\u001b[0m: \n    Required dependencies are not installed or built.  Run the following command in your terminal:\n        python3 -m pysr install\n    "
     ]
    }
   ],
   "source": [
    "x = factors_annual\n",
    "y = weights_annual[\"sae3CNNlstm\"]\n",
    "\n",
    "\n",
    "\n",
    "model = PySRRegressor(\n",
    "    niterations=40,  # < Increase me for better results\n",
    "    binary_operators=[\"+\", \"*\"],\n",
    "    extra_sympy_mappings={\"inv\": lambda x: 1 / x},\n",
    "    # ^ Define operator for SymPy as well\n",
    "    loss=\"loss(prediction, target) = (prediction - target)^2\",\n",
    "    # ^ Custom loss function (julia syntax)\n",
    ")\n",
    "\n",
    "model.fit(x, y)"
   ]
  }
 ],
 "metadata": {
  "kernelspec": {
   "display_name": "Python 3 (ipykernel)",
   "language": "python",
   "name": "python3"
  },
  "language_info": {
   "codemirror_mode": {
    "name": "ipython",
    "version": 3
   },
   "file_extension": ".py",
   "mimetype": "text/x-python",
   "name": "python",
   "nbconvert_exporter": "python",
   "pygments_lexer": "ipython3",
   "version": "3.11.5"
  }
 },
 "nbformat": 4,
 "nbformat_minor": 5
}
