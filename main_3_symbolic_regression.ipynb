{
 "cells": [
  {
   "cell_type": "code",
   "execution_count": 1,
   "id": "a0858da0-60d3-4dd2-aeaa-792ea64d1418",
   "metadata": {
    "tags": []
   },
   "outputs": [],
   "source": [
    "import os\n",
    "import pandas as pd\n",
    "import numpy as np\n",
    "# import matplotlib.pyplot as plt\n",
    "from pysr import PySRRegressor\n",
    "\n",
    "import warnings\n",
    "warnings.filterwarnings(\"ignore\")\n",
    "\n",
    "start_date = \"2010-01-01\"\n",
    "end_date = \"2020-01-01\""
   ]
  },
  {
   "cell_type": "code",
   "execution_count": 2,
   "id": "17c710c7-a41a-411a-803e-3975acad78da",
   "metadata": {
    "tags": []
   },
   "outputs": [],
   "source": [
    "# Read the macro factors from paper \"A Comprehensive Look at The Empirical Performance of Equity Premium Prediction\"\n",
    "# Source: https://sites.google.com/view/agoyal145\n",
    "# Source: https://docs.google.com/spreadsheets/d/1g4LOaRj4TvwJr9RIaA_nwrXXWTOy46bP/edit#gid=2070662242\n",
    "\n",
    "factors_annual = pd.read_excel(\"data_clean/macro_factors.xlsx\", sheet_name = \"Annual\", index_col = 0)\n",
    "factors_monthly = pd.read_excel(\"data_clean/macro_factors.xlsx\", sheet_name = \"Monthly\", index_col = 0)\n",
    "\n",
    "factors_annual.index = pd.to_datetime(factors_annual.index, format='%Y')\n",
    "factors_monthly.index = pd.to_datetime(factors_monthly.index, format='%Y%m')\n",
    "\n",
    "factors_annual = factors_annual.iloc[(factors_annual.index >= start_date) & (factors_annual.index < end_date), 3:].dropna(axis=1)\n",
    "factors_monthly = factors_monthly.iloc[(factors_monthly.index >= start_date) & (factors_monthly.index < end_date), 3:].dropna(axis=1)"
   ]
  },
  {
   "cell_type": "code",
   "execution_count": 20,
   "id": "c68a3a5a-daf2-4be8-a107-145fe1782080",
   "metadata": {},
   "outputs": [],
   "source": [
    "# Use Fama-French 5 factors\n",
    "# Source: https://mba.tuck.dartmouth.edu/pages/faculty/ken.french/data_library.html\n",
    "\n",
    "ff5_annual = pd.read_csv(\"data_clean/FF5_annual.csv\", index_col=0).iloc[:,:-1] / 100\n",
    "ff5_annual.index = pd.to_datetime(ff5_annual.index, format='%Y')\n",
    "ff5_annual = ff5_annual[(ff5_annual.index >= start_date) & (ff5_annual.index < end_date)]"
   ]
  },
  {
   "cell_type": "code",
   "execution_count": 3,
   "id": "5420c20e-db96-4cf7-8da7-d5f5609358fe",
   "metadata": {
    "tags": []
   },
   "outputs": [],
   "source": [
    "# Read the portfolio weights long-format produced by main_1_get_weight.ipynb\n",
    "file_names = os.listdir('portfolio_weights')\n",
    "file_names = [file for file in file_names if os.path.isfile(os.path.join('portfolio_weights', file))]\n",
    "file_names_annual = [string for string in file_names if \"annual\" in string]\n",
    "file_names_monthly = [string for string in file_names if \"month\" in string]\n",
    "\n",
    "names_annual = [file_names_annual.replace('weight_annual_', '').replace('.csv', '') for file_names_annual in file_names_annual]\n",
    "names_monthly = [file_names_monthly.replace('weight_monthly_', '').replace('.csv', '') for file_names_monthly in file_names_monthly]\n",
    "\n",
    "weights_annual = {}\n",
    "for i in range(len(file_names_annual)):\n",
    "    file = file_names_annual[i]\n",
    "    strategy_name = names_annual[i]\n",
    "    tmp_weight = pd.read_csv(\"portfolio_weights/\" + file)\n",
    "    tmp_weight[\"Date\"] = pd.to_datetime(tmp_weight[\"Date\"])\n",
    "    tmp_weight = tmp_weight.pivot(index = \"Date\", columns = \"Ticker\", values = \"Weight\")[::252]\n",
    "    weights_annual[strategy_name] = tmp_weight\n",
    "    \n",
    "weights_monthly = {}\n",
    "for i in range(len(file_names_monthly)):\n",
    "    file = file_names_monthly[i]\n",
    "    strategy_name = names_monthly[i]\n",
    "    tmp_weight = pd.read_csv(\"portfolio_weights/\" + file)\n",
    "    tmp_weight[\"Date\"] = pd.to_datetime(tmp_weight[\"Date\"])\n",
    "    tmp_weight = tmp_weight.pivot(index = \"Date\", columns = \"Ticker\", values = \"Weight\")[::21]\n",
    "    weights_monthly[strategy_name] = tmp_weight"
   ]
  },
  {
   "cell_type": "markdown",
   "id": "bef2b479-fd49-4b23-8d6f-6ea1251a5ea3",
   "metadata": {
    "tags": []
   },
   "source": [
    "# Symbolic Regression on Annual Weight"
   ]
  },
  {
   "cell_type": "code",
   "execution_count": 44,
   "id": "fc321d8f-9704-49de-8f7a-608ebb383270",
   "metadata": {
    "tags": []
   },
   "outputs": [],
   "source": [
    "x = ff5_annual\n",
    "y = weights_annual[\"sae3CNNlstm\"]\n",
    "\n",
    "# # Note: there is some randomness; thus using from_file\n",
    "# model = PySRRegressor(\n",
    "#     niterations=40,  # < Increase me for better results\n",
    "#     binary_operators=[\"+\", \"-\", \"*\", \"/\"],\n",
    "#     extra_sympy_mappings={\"inv\": lambda x: 1 / x},\n",
    "#     loss=\"loss(prediction, target) = (prediction - target)^2\",\n",
    "#     progress=False\n",
    "# )\n",
    "\n",
    "# model.fit(x, y)"
   ]
  },
  {
   "cell_type": "code",
   "execution_count": 41,
   "id": "f3d89c41-7747-4d57-b564-af40b108ff8e",
   "metadata": {},
   "outputs": [
    {
     "name": "stdout",
     "output_type": "stream",
     "text": [
      "Checking if pysr_model_FF5.pkl exists...\n",
      "Loading model from pysr_model_FF5.pkl\n"
     ]
    }
   ],
   "source": [
    "# model = PySRRegressor.from_file(\"pysr_result_macro_factors.pkl\")\n",
    "model = PySRRegressor.from_file(\"pysr_model_FF5.pkl\")"
   ]
  },
  {
   "cell_type": "code",
   "execution_count": 42,
   "id": "db2c47fc-4e7b-4c85-8e06-f3b54ce0d663",
   "metadata": {},
   "outputs": [
    {
     "name": "stdout",
     "output_type": "stream",
     "text": [
      "AGG = ((((((0.75528973 - Mkt_RF) - Mkt_RF) * Mkt_RF) * -2.64096) + (RMW / 0.48064393)) + (0.5782028 + SMB))\n",
      "DBC = ((((Mkt_RF * ((-0.008375801 / SMB) + (HML / (-0.008375801 - 0.24041964)))) - -0.10228153) + CMA) / 1.0571132)\n",
      "VIX = (-0.009205342 / (((-0.29511827 + CMA) + Mkt_RF) - ((SMB * 1.3917743) + 0.10031292)))\n",
      "VTI = (0.19678046 / ((0.55597466 - SMB) + (((RMW * ((HML - CMA) / CMA)) + SMB) / 0.29991513)))\n"
     ]
    }
   ],
   "source": [
    "for i in range(len(model.equations)):\n",
    "    best = model.get_best()[i][\"equation\"]\n",
    "    print(f\"{y.columns[i]} = \" + best)"
   ]
  },
  {
   "cell_type": "code",
   "execution_count": 43,
   "id": "dd9884f7-87ad-4852-a4d7-e5290b755b3e",
   "metadata": {},
   "outputs": [
    {
     "data": {
      "text/html": [
       "<div>\n",
       "<style scoped>\n",
       "    .dataframe tbody tr th:only-of-type {\n",
       "        vertical-align: middle;\n",
       "    }\n",
       "\n",
       "    .dataframe tbody tr th {\n",
       "        vertical-align: top;\n",
       "    }\n",
       "\n",
       "    .dataframe thead th {\n",
       "        text-align: right;\n",
       "    }\n",
       "</style>\n",
       "<table border=\"1\" class=\"dataframe\">\n",
       "  <thead>\n",
       "    <tr style=\"text-align: right;\">\n",
       "      <th>Ticker</th>\n",
       "      <th>AGG</th>\n",
       "      <th>DBC</th>\n",
       "      <th>VIX</th>\n",
       "      <th>VTI</th>\n",
       "    </tr>\n",
       "    <tr>\n",
       "      <th>Date</th>\n",
       "      <th></th>\n",
       "      <th></th>\n",
       "      <th></th>\n",
       "      <th></th>\n",
       "    </tr>\n",
       "  </thead>\n",
       "  <tbody>\n",
       "    <tr>\n",
       "      <th>2010-12-29</th>\n",
       "      <td>-0.061287</td>\n",
       "      <td>0.020485</td>\n",
       "      <td>-0.242524</td>\n",
       "      <td>-0.080327</td>\n",
       "    </tr>\n",
       "    <tr>\n",
       "      <th>2011-12-28</th>\n",
       "      <td>-0.066824</td>\n",
       "      <td>0.199545</td>\n",
       "      <td>0.878076</td>\n",
       "      <td>0.015965</td>\n",
       "    </tr>\n",
       "    <tr>\n",
       "      <th>2012-12-27</th>\n",
       "      <td>0.265642</td>\n",
       "      <td>0.011634</td>\n",
       "      <td>0.098146</td>\n",
       "      <td>0.055776</td>\n",
       "    </tr>\n",
       "    <tr>\n",
       "      <th>2013-12-26</th>\n",
       "      <td>0.032559</td>\n",
       "      <td>-0.234304</td>\n",
       "      <td>0.689265</td>\n",
       "      <td>-0.043566</td>\n",
       "    </tr>\n",
       "    <tr>\n",
       "      <th>2014-12-26</th>\n",
       "      <td>0.175227</td>\n",
       "      <td>-0.162640</td>\n",
       "      <td>-0.129100</td>\n",
       "      <td>0.037465</td>\n",
       "    </tr>\n",
       "    <tr>\n",
       "      <th>2015-12-24</th>\n",
       "      <td>-0.036823</td>\n",
       "      <td>-0.486224</td>\n",
       "      <td>-0.279445</td>\n",
       "      <td>0.228081</td>\n",
       "    </tr>\n",
       "    <tr>\n",
       "      <th>2016-12-23</th>\n",
       "      <td>-0.063642</td>\n",
       "      <td>0.132057</td>\n",
       "      <td>1.801330</td>\n",
       "      <td>-0.319096</td>\n",
       "    </tr>\n",
       "    <tr>\n",
       "      <th>2017-12-26</th>\n",
       "      <td>0.493512</td>\n",
       "      <td>-0.024566</td>\n",
       "      <td>0.470744</td>\n",
       "      <td>-0.190145</td>\n",
       "    </tr>\n",
       "    <tr>\n",
       "      <th>2018-12-24</th>\n",
       "      <td>-0.163108</td>\n",
       "      <td>0.113206</td>\n",
       "      <td>0.090495</td>\n",
       "      <td>-0.811119</td>\n",
       "    </tr>\n",
       "    <tr>\n",
       "      <th>2019-12-23</th>\n",
       "      <td>-0.195837</td>\n",
       "      <td>0.129068</td>\n",
       "      <td>0.022891</td>\n",
       "      <td>2.516073</td>\n",
       "    </tr>\n",
       "  </tbody>\n",
       "</table>\n",
       "</div>"
      ],
      "text/plain": [
       "Ticker           AGG       DBC       VIX       VTI\n",
       "Date                                              \n",
       "2010-12-29 -0.061287  0.020485 -0.242524 -0.080327\n",
       "2011-12-28 -0.066824  0.199545  0.878076  0.015965\n",
       "2012-12-27  0.265642  0.011634  0.098146  0.055776\n",
       "2013-12-26  0.032559 -0.234304  0.689265 -0.043566\n",
       "2014-12-26  0.175227 -0.162640 -0.129100  0.037465\n",
       "2015-12-24 -0.036823 -0.486224 -0.279445  0.228081\n",
       "2016-12-23 -0.063642  0.132057  1.801330 -0.319096\n",
       "2017-12-26  0.493512 -0.024566  0.470744 -0.190145\n",
       "2018-12-24 -0.163108  0.113206  0.090495 -0.811119\n",
       "2019-12-23 -0.195837  0.129068  0.022891  2.516073"
      ]
     },
     "execution_count": 43,
     "metadata": {},
     "output_type": "execute_result"
    }
   ],
   "source": [
    "# error from pySR: (error is pretty small)\n",
    "y_hat = model.predict(x)\n",
    "(y_hat - y) / y"
   ]
  },
  {
   "cell_type": "markdown",
   "id": "984e6c65-2b3d-4cc4-ab48-9e13c322cf78",
   "metadata": {
    "tags": []
   },
   "source": [
    "# Symbolic Regression on Annual Weight (no division)"
   ]
  },
  {
   "cell_type": "code",
   "execution_count": null,
   "id": "a568e2e6-e72a-49eb-a298-1a8408bb6213",
   "metadata": {},
   "outputs": [],
   "source": [
    "x = ff5_annual\n",
    "y = weights_annual[\"sae3CNNlstm\"]\n",
    "\n",
    "# # Note: there is some randomness; thus using from_file\n",
    "# model = PySRRegressor(\n",
    "#     niterations=40,  # < Increase me for better results\n",
    "#     binary_operators=[\"+\", \"-\", \"*\"],\n",
    "#     extra_sympy_mappings={\"inv\": lambda x: 1 / x},\n",
    "#     loss=\"loss(prediction, target) = (prediction - target)^2\",\n",
    "#     progress=False\n",
    "# )\n",
    "\n",
    "# model.fit(x, y)"
   ]
  },
  {
   "cell_type": "code",
   "execution_count": 46,
   "id": "404f96f2-359b-428d-9c76-1ebd36a5d4ae",
   "metadata": {},
   "outputs": [
    {
     "name": "stdout",
     "output_type": "stream",
     "text": [
      "Checking if pysr_model_FF5_no_division.pkl exists...\n",
      "Loading model from pysr_model_FF5_no_division.pkl\n"
     ]
    }
   ],
   "source": [
    "model = PySRRegressor.from_file(\"pysr_model_FF5_no_division.pkl\")"
   ]
  },
  {
   "cell_type": "code",
   "execution_count": 47,
   "id": "27bfb01f-b602-41af-9efb-5f99e9bf4788",
   "metadata": {},
   "outputs": [
    {
     "name": "stdout",
     "output_type": "stream",
     "text": [
      "AGG = ((((0.6754607 - ((HML * -25.817741) * (SMB - CMA))) + SMB) - Mkt_RF) + RMW)\n",
      "DBC = ((0.085083224 - (((CMA * 31.874401) - Mkt_RF) * RMW)) + CMA)\n",
      "VIX = (((Mkt_RF + ((Mkt_RF - HML) + Mkt_RF)) - HML) * ((0.17106752 - SMB) + (CMA + -0.06438767)))\n",
      "VTI = (0.3470881 - ((CMA - ((HML - RMW) - CMA)) * ((1.2123634 - SMB) - SMB)))\n"
     ]
    }
   ],
   "source": [
    "for i in range(len(model.equations)):\n",
    "    best = model.get_best()[i][\"equation\"]\n",
    "    print(f\"{y.columns[i]} = \" + best)"
   ]
  },
  {
   "cell_type": "code",
   "execution_count": 50,
   "id": "942fa641-7339-46fe-bd80-66252da606a7",
   "metadata": {},
   "outputs": [
    {
     "data": {
      "text/html": [
       "<div>\n",
       "<style scoped>\n",
       "    .dataframe tbody tr th:only-of-type {\n",
       "        vertical-align: middle;\n",
       "    }\n",
       "\n",
       "    .dataframe tbody tr th {\n",
       "        vertical-align: top;\n",
       "    }\n",
       "\n",
       "    .dataframe thead th {\n",
       "        text-align: right;\n",
       "    }\n",
       "</style>\n",
       "<table border=\"1\" class=\"dataframe\">\n",
       "  <thead>\n",
       "    <tr style=\"text-align: right;\">\n",
       "      <th>Ticker</th>\n",
       "      <th>AGG</th>\n",
       "      <th>DBC</th>\n",
       "      <th>VIX</th>\n",
       "      <th>VTI</th>\n",
       "    </tr>\n",
       "    <tr>\n",
       "      <th>Date</th>\n",
       "      <th></th>\n",
       "      <th></th>\n",
       "      <th></th>\n",
       "      <th></th>\n",
       "    </tr>\n",
       "  </thead>\n",
       "  <tbody>\n",
       "    <tr>\n",
       "      <th>2010-12-29</th>\n",
       "      <td>0.083154</td>\n",
       "      <td>0.091820</td>\n",
       "      <td>0.101087</td>\n",
       "      <td>-0.425661</td>\n",
       "    </tr>\n",
       "    <tr>\n",
       "      <th>2011-12-28</th>\n",
       "      <td>-0.008006</td>\n",
       "      <td>0.692550</td>\n",
       "      <td>0.811181</td>\n",
       "      <td>0.475605</td>\n",
       "    </tr>\n",
       "    <tr>\n",
       "      <th>2012-12-27</th>\n",
       "      <td>-0.090770</td>\n",
       "      <td>-0.101747</td>\n",
       "      <td>-0.068161</td>\n",
       "      <td>-0.127913</td>\n",
       "    </tr>\n",
       "    <tr>\n",
       "      <th>2013-12-26</th>\n",
       "      <td>-0.187768</td>\n",
       "      <td>0.891228</td>\n",
       "      <td>-0.092128</td>\n",
       "      <td>-0.015461</td>\n",
       "    </tr>\n",
       "    <tr>\n",
       "      <th>2014-12-26</th>\n",
       "      <td>0.663981</td>\n",
       "      <td>-0.354663</td>\n",
       "      <td>0.126115</td>\n",
       "      <td>-0.315932</td>\n",
       "    </tr>\n",
       "    <tr>\n",
       "      <th>2015-12-24</th>\n",
       "      <td>-0.009463</td>\n",
       "      <td>-0.023461</td>\n",
       "      <td>-0.521505</td>\n",
       "      <td>0.152047</td>\n",
       "    </tr>\n",
       "    <tr>\n",
       "      <th>2016-12-23</th>\n",
       "      <td>0.016583</td>\n",
       "      <td>-0.081971</td>\n",
       "      <td>-1.556228</td>\n",
       "      <td>0.097393</td>\n",
       "    </tr>\n",
       "    <tr>\n",
       "      <th>2017-12-26</th>\n",
       "      <td>-0.101047</td>\n",
       "      <td>0.218128</td>\n",
       "      <td>0.637878</td>\n",
       "      <td>-0.258752</td>\n",
       "    </tr>\n",
       "    <tr>\n",
       "      <th>2018-12-24</th>\n",
       "      <td>0.021384</td>\n",
       "      <td>0.587248</td>\n",
       "      <td>-1.111339</td>\n",
       "      <td>0.793614</td>\n",
       "    </tr>\n",
       "    <tr>\n",
       "      <th>2019-12-23</th>\n",
       "      <td>-0.207658</td>\n",
       "      <td>-0.432822</td>\n",
       "      <td>-0.069678</td>\n",
       "      <td>2.144860</td>\n",
       "    </tr>\n",
       "  </tbody>\n",
       "</table>\n",
       "</div>"
      ],
      "text/plain": [
       "Ticker           AGG       DBC       VIX       VTI\n",
       "Date                                              \n",
       "2010-12-29  0.083154  0.091820  0.101087 -0.425661\n",
       "2011-12-28 -0.008006  0.692550  0.811181  0.475605\n",
       "2012-12-27 -0.090770 -0.101747 -0.068161 -0.127913\n",
       "2013-12-26 -0.187768  0.891228 -0.092128 -0.015461\n",
       "2014-12-26  0.663981 -0.354663  0.126115 -0.315932\n",
       "2015-12-24 -0.009463 -0.023461 -0.521505  0.152047\n",
       "2016-12-23  0.016583 -0.081971 -1.556228  0.097393\n",
       "2017-12-26 -0.101047  0.218128  0.637878 -0.258752\n",
       "2018-12-24  0.021384  0.587248 -1.111339  0.793614\n",
       "2019-12-23 -0.207658 -0.432822 -0.069678  2.144860"
      ]
     },
     "execution_count": 50,
     "metadata": {},
     "output_type": "execute_result"
    }
   ],
   "source": [
    "# error from pySR: (error is pretty small)\n",
    "y_hat = model.predict(x)\n",
    "(y_hat - y) / y "
   ]
  }
 ],
 "metadata": {
  "kernelspec": {
   "display_name": "Python 3 (ipykernel)",
   "language": "python",
   "name": "python3"
  },
  "language_info": {
   "codemirror_mode": {
    "name": "ipython",
    "version": 3
   },
   "file_extension": ".py",
   "mimetype": "text/x-python",
   "name": "python",
   "nbconvert_exporter": "python",
   "pygments_lexer": "ipython3",
   "version": "3.11.4"
  }
 },
 "nbformat": 4,
 "nbformat_minor": 5
}
