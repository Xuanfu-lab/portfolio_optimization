{
 "cells": [
  {
   "cell_type": "code",
   "execution_count": 1,
   "id": "72e4554a-3f47-4ba5-889c-b0d041364ebb",
   "metadata": {
    "tags": []
   },
   "outputs": [],
   "source": [
    "# Core Packages\n",
    "import pandas as pd\n",
    "import numpy as np\n",
    "import matplotlib.pyplot as plt\n",
    "import tensorflow as tf\n",
    "from portfolio_optimizer import portfolio_optimizer\n",
    "from backtest import backtest, display_backtest_results\n",
    "import warnings\n",
    "warnings.filterwarnings(\"ignore\")\n",
    "from IPython.display import display\n",
    "from typing import List\n",
    "\n",
    "# data used to replicate paper results\n",
    "# VTI, AGG, DBC, VIX\n",
    "start_date = \"2010-01-01\"\n",
    "end_date = \"2020-01-01\"\n",
    "price_long = pd.read_csv(\"data_clean/long_format_daily_original_paper_data.csv\")\n",
    "price_long[\"Date\"] = pd.to_datetime(price_long[\"Date\"])\n",
    "price_long = price_long.loc[(price_long[\"Date\"] >= start_date) & (price_long[\"Date\"] <= end_date), :]\n",
    "price_wide = price_long.pivot(index='Date', columns='Ticker', values='Price')\n",
    "\n",
    "portfolio_paper = portfolio_optimizer(price_long)"
   ]
  },
  {
   "cell_type": "markdown",
   "id": "72781f6c-e7be-48b9-a57b-5b67da177011",
   "metadata": {},
   "source": [
    "# Replicate Paper Result"
   ]
  },
  {
   "cell_type": "code",
   "execution_count": 2,
   "id": "76c585b6-2c89-4f57-ba46-5ac299c4b0ec",
   "metadata": {
    "tags": []
   },
   "outputs": [
    {
     "name": "stdout",
     "output_type": "stream",
     "text": [
      "1/1 [==============================] - 0s 232ms/step\n",
      "1/1 [==============================] - 0s 223ms/step\n",
      "1/1 [==============================] - 0s 217ms/step\n",
      "1/1 [==============================] - 0s 226ms/step\n"
     ]
    },
    {
     "ename": "KeyboardInterrupt",
     "evalue": "",
     "output_type": "error",
     "traceback": [
      "\u001b[1;31m---------------------------------------------------------------------------\u001b[0m",
      "\u001b[1;31mKeyboardInterrupt\u001b[0m                         Traceback (most recent call last)",
      "File \u001b[1;32m<timed exec>:3\u001b[0m\n",
      "File \u001b[1;32m~\\Desktop\\GithubRepo\\portfolio_optimization\\portfolio_optimizer.py:140\u001b[0m, in \u001b[0;36mportfolio_optimizer.optimize\u001b[1;34m(self, method, cov_estimation, rebalance_frequency, look_back, loss, reg, structure_change)\u001b[0m\n\u001b[0;32m    138\u001b[0m         prices \u001b[38;5;241m=\u001b[39m chunk\u001b[38;5;241m.\u001b[39mdropna(thresh \u001b[38;5;241m=\u001b[39m look_back \u001b[38;5;241m-\u001b[39m na_threshold, axis\u001b[38;5;241m=\u001b[39m\u001b[38;5;241m1\u001b[39m)\n\u001b[0;32m    139\u001b[0m         prices \u001b[38;5;241m=\u001b[39m prices\u001b[38;5;241m.\u001b[39mfillna(method \u001b[38;5;241m=\u001b[39m \u001b[38;5;124m'\u001b[39m\u001b[38;5;124mffill\u001b[39m\u001b[38;5;124m'\u001b[39m)\n\u001b[1;32m--> 140\u001b[0m         chunk_weights \u001b[38;5;241m=\u001b[39m \u001b[38;5;28;43mself\u001b[39;49m\u001b[38;5;241;43m.\u001b[39;49m\u001b[43m__optimize_1_run_LSTM\u001b[49m\u001b[43m(\u001b[49m\u001b[43mprices\u001b[49m\u001b[43m,\u001b[49m\u001b[43m \u001b[49m\u001b[43mloss\u001b[49m\u001b[43m,\u001b[49m\u001b[43m \u001b[49m\u001b[43mreg\u001b[49m\u001b[43m,\u001b[49m\u001b[43m \u001b[49m\u001b[43mstructure_change\u001b[49m\u001b[43m)\u001b[49m\n\u001b[0;32m    141\u001b[0m         weights \u001b[38;5;241m=\u001b[39m pd\u001b[38;5;241m.\u001b[39mconcat([weights, chunk_weights], axis\u001b[38;5;241m=\u001b[39m\u001b[38;5;241m0\u001b[39m, ignore_index\u001b[38;5;241m=\u001b[39m\u001b[38;5;28;01mTrue\u001b[39;00m)\n\u001b[0;32m    142\u001b[0m \u001b[38;5;28;01melse\u001b[39;00m:\n",
      "File \u001b[1;32m~\\Desktop\\GithubRepo\\portfolio_optimization\\portfolio_optimizer.py:112\u001b[0m, in \u001b[0;36mportfolio_optimizer.__optimize_1_run_LSTM\u001b[1;34m(self, price_wide, loss, reg, structure_change)\u001b[0m\n\u001b[0;32m    109\u001b[0m annualized_vol \u001b[38;5;241m=\u001b[39m return_wide\u001b[38;5;241m.\u001b[39mstd() \u001b[38;5;241m*\u001b[39m np\u001b[38;5;241m.\u001b[39msqrt(\u001b[38;5;241m252\u001b[39m)\n\u001b[0;32m    111\u001b[0m model \u001b[38;5;241m=\u001b[39m Model_LSTM(loss \u001b[38;5;241m=\u001b[39m loss, reg \u001b[38;5;241m=\u001b[39m reg, structure_change \u001b[38;5;241m=\u001b[39m structure_change)              \n\u001b[1;32m--> 112\u001b[0m weights \u001b[38;5;241m=\u001b[39m \u001b[43mmodel\u001b[49m\u001b[38;5;241;43m.\u001b[39;49m\u001b[43mget_allocations\u001b[49m\u001b[43m(\u001b[49m\u001b[43mprice_wide\u001b[49m\u001b[43m)\u001b[49m\n\u001b[0;32m    114\u001b[0m \u001b[38;5;28;01mreturn\u001b[39;00m pd\u001b[38;5;241m.\u001b[39mDataFrame({\u001b[38;5;124m'\u001b[39m\u001b[38;5;124mDate\u001b[39m\u001b[38;5;124m'\u001b[39m:date, \n\u001b[0;32m    115\u001b[0m                      \u001b[38;5;124m'\u001b[39m\u001b[38;5;124mTicker\u001b[39m\u001b[38;5;124m'\u001b[39m:tickers, \n\u001b[0;32m    116\u001b[0m                      \u001b[38;5;124m'\u001b[39m\u001b[38;5;124mWeight\u001b[39m\u001b[38;5;124m'\u001b[39m:weights, \n\u001b[0;32m    117\u001b[0m                      \u001b[38;5;124m'\u001b[39m\u001b[38;5;124mAnnualized_vol\u001b[39m\u001b[38;5;124m'\u001b[39m:annualized_vol\n\u001b[0;32m    118\u001b[0m                     })\n",
      "File \u001b[1;32m~\\Desktop\\GithubRepo\\portfolio_optimization\\model.py:214\u001b[0m, in \u001b[0;36mModel_LSTM.get_allocations\u001b[1;34m(self, data)\u001b[0m\n\u001b[0;32m    211\u001b[0m     \u001b[38;5;28mself\u001b[39m\u001b[38;5;241m.\u001b[39mmodel \u001b[38;5;241m=\u001b[39m \u001b[38;5;28mself\u001b[39m\u001b[38;5;241m.\u001b[39m__build_model(data_w_ret\u001b[38;5;241m.\u001b[39mshape, \u001b[38;5;28mlen\u001b[39m(data\u001b[38;5;241m.\u001b[39mcolumns))\n\u001b[0;32m    213\u001b[0m fit_predict_data \u001b[38;5;241m=\u001b[39m data_w_ret[np\u001b[38;5;241m.\u001b[39mnewaxis,:]        \n\u001b[1;32m--> 214\u001b[0m \u001b[38;5;28;43mself\u001b[39;49m\u001b[38;5;241;43m.\u001b[39;49m\u001b[43mmodel\u001b[49m\u001b[38;5;241;43m.\u001b[39;49m\u001b[43mfit\u001b[49m\u001b[43m(\u001b[49m\u001b[43mfit_predict_data\u001b[49m\u001b[43m,\u001b[49m\u001b[43m \u001b[49m\u001b[43mnp\u001b[49m\u001b[38;5;241;43m.\u001b[39;49m\u001b[43mzeros\u001b[49m\u001b[43m(\u001b[49m\u001b[43m(\u001b[49m\u001b[38;5;241;43m1\u001b[39;49m\u001b[43m,\u001b[49m\u001b[43m \u001b[49m\u001b[38;5;28;43mlen\u001b[39;49m\u001b[43m(\u001b[49m\u001b[43mdata\u001b[49m\u001b[38;5;241;43m.\u001b[39;49m\u001b[43mcolumns\u001b[49m\u001b[43m)\u001b[49m\u001b[43m)\u001b[49m\u001b[43m)\u001b[49m\u001b[43m,\u001b[49m\u001b[43m \u001b[49m\u001b[43mepochs\u001b[49m\u001b[38;5;241;43m=\u001b[39;49m\u001b[38;5;241;43m20\u001b[39;49m\u001b[43m,\u001b[49m\u001b[43m \u001b[49m\u001b[43mshuffle\u001b[49m\u001b[38;5;241;43m=\u001b[39;49m\u001b[38;5;28;43;01mFalse\u001b[39;49;00m\u001b[43m,\u001b[49m\n\u001b[0;32m    215\u001b[0m \u001b[43m               \u001b[49m\u001b[43mverbose\u001b[49m\u001b[38;5;241;43m=\u001b[39;49m\u001b[38;5;241;43m0\u001b[39;49m\n\u001b[0;32m    216\u001b[0m \u001b[43m              \u001b[49m\u001b[43m)\u001b[49m\n\u001b[0;32m    217\u001b[0m \u001b[38;5;28;01mreturn\u001b[39;00m \u001b[38;5;28mself\u001b[39m\u001b[38;5;241m.\u001b[39mmodel\u001b[38;5;241m.\u001b[39mpredict(fit_predict_data)[\u001b[38;5;241m0\u001b[39m]\n",
      "File \u001b[1;32m~\\anaconda3\\envs\\Tensorflow\\lib\\site-packages\\keras\\src\\utils\\traceback_utils.py:65\u001b[0m, in \u001b[0;36mfilter_traceback.<locals>.error_handler\u001b[1;34m(*args, **kwargs)\u001b[0m\n\u001b[0;32m     63\u001b[0m filtered_tb \u001b[38;5;241m=\u001b[39m \u001b[38;5;28;01mNone\u001b[39;00m\n\u001b[0;32m     64\u001b[0m \u001b[38;5;28;01mtry\u001b[39;00m:\n\u001b[1;32m---> 65\u001b[0m     \u001b[38;5;28;01mreturn\u001b[39;00m fn(\u001b[38;5;241m*\u001b[39margs, \u001b[38;5;241m*\u001b[39m\u001b[38;5;241m*\u001b[39mkwargs)\n\u001b[0;32m     66\u001b[0m \u001b[38;5;28;01mexcept\u001b[39;00m \u001b[38;5;167;01mException\u001b[39;00m \u001b[38;5;28;01mas\u001b[39;00m e:\n\u001b[0;32m     67\u001b[0m     filtered_tb \u001b[38;5;241m=\u001b[39m _process_traceback_frames(e\u001b[38;5;241m.\u001b[39m__traceback__)\n",
      "File \u001b[1;32m~\\anaconda3\\envs\\Tensorflow\\lib\\site-packages\\keras\\src\\engine\\training.py:1742\u001b[0m, in \u001b[0;36mModel.fit\u001b[1;34m(self, x, y, batch_size, epochs, verbose, callbacks, validation_split, validation_data, shuffle, class_weight, sample_weight, initial_epoch, steps_per_epoch, validation_steps, validation_batch_size, validation_freq, max_queue_size, workers, use_multiprocessing)\u001b[0m\n\u001b[0;32m   1734\u001b[0m \u001b[38;5;28;01mwith\u001b[39;00m tf\u001b[38;5;241m.\u001b[39mprofiler\u001b[38;5;241m.\u001b[39mexperimental\u001b[38;5;241m.\u001b[39mTrace(\n\u001b[0;32m   1735\u001b[0m     \u001b[38;5;124m\"\u001b[39m\u001b[38;5;124mtrain\u001b[39m\u001b[38;5;124m\"\u001b[39m,\n\u001b[0;32m   1736\u001b[0m     epoch_num\u001b[38;5;241m=\u001b[39mepoch,\n\u001b[1;32m   (...)\u001b[0m\n\u001b[0;32m   1739\u001b[0m     _r\u001b[38;5;241m=\u001b[39m\u001b[38;5;241m1\u001b[39m,\n\u001b[0;32m   1740\u001b[0m ):\n\u001b[0;32m   1741\u001b[0m     callbacks\u001b[38;5;241m.\u001b[39mon_train_batch_begin(step)\n\u001b[1;32m-> 1742\u001b[0m     tmp_logs \u001b[38;5;241m=\u001b[39m \u001b[38;5;28;43mself\u001b[39;49m\u001b[38;5;241;43m.\u001b[39;49m\u001b[43mtrain_function\u001b[49m\u001b[43m(\u001b[49m\u001b[43miterator\u001b[49m\u001b[43m)\u001b[49m\n\u001b[0;32m   1743\u001b[0m     \u001b[38;5;28;01mif\u001b[39;00m data_handler\u001b[38;5;241m.\u001b[39mshould_sync:\n\u001b[0;32m   1744\u001b[0m         context\u001b[38;5;241m.\u001b[39masync_wait()\n",
      "File \u001b[1;32m~\\anaconda3\\envs\\Tensorflow\\lib\\site-packages\\tensorflow\\python\\util\\traceback_utils.py:150\u001b[0m, in \u001b[0;36mfilter_traceback.<locals>.error_handler\u001b[1;34m(*args, **kwargs)\u001b[0m\n\u001b[0;32m    148\u001b[0m filtered_tb \u001b[38;5;241m=\u001b[39m \u001b[38;5;28;01mNone\u001b[39;00m\n\u001b[0;32m    149\u001b[0m \u001b[38;5;28;01mtry\u001b[39;00m:\n\u001b[1;32m--> 150\u001b[0m   \u001b[38;5;28;01mreturn\u001b[39;00m fn(\u001b[38;5;241m*\u001b[39margs, \u001b[38;5;241m*\u001b[39m\u001b[38;5;241m*\u001b[39mkwargs)\n\u001b[0;32m    151\u001b[0m \u001b[38;5;28;01mexcept\u001b[39;00m \u001b[38;5;167;01mException\u001b[39;00m \u001b[38;5;28;01mas\u001b[39;00m e:\n\u001b[0;32m    152\u001b[0m   filtered_tb \u001b[38;5;241m=\u001b[39m _process_traceback_frames(e\u001b[38;5;241m.\u001b[39m__traceback__)\n",
      "File \u001b[1;32m~\\anaconda3\\envs\\Tensorflow\\lib\\site-packages\\tensorflow\\python\\eager\\polymorphic_function\\polymorphic_function.py:825\u001b[0m, in \u001b[0;36mFunction.__call__\u001b[1;34m(self, *args, **kwds)\u001b[0m\n\u001b[0;32m    822\u001b[0m compiler \u001b[38;5;241m=\u001b[39m \u001b[38;5;124m\"\u001b[39m\u001b[38;5;124mxla\u001b[39m\u001b[38;5;124m\"\u001b[39m \u001b[38;5;28;01mif\u001b[39;00m \u001b[38;5;28mself\u001b[39m\u001b[38;5;241m.\u001b[39m_jit_compile \u001b[38;5;28;01melse\u001b[39;00m \u001b[38;5;124m\"\u001b[39m\u001b[38;5;124mnonXla\u001b[39m\u001b[38;5;124m\"\u001b[39m\n\u001b[0;32m    824\u001b[0m \u001b[38;5;28;01mwith\u001b[39;00m OptionalXlaContext(\u001b[38;5;28mself\u001b[39m\u001b[38;5;241m.\u001b[39m_jit_compile):\n\u001b[1;32m--> 825\u001b[0m   result \u001b[38;5;241m=\u001b[39m \u001b[38;5;28mself\u001b[39m\u001b[38;5;241m.\u001b[39m_call(\u001b[38;5;241m*\u001b[39margs, \u001b[38;5;241m*\u001b[39m\u001b[38;5;241m*\u001b[39mkwds)\n\u001b[0;32m    827\u001b[0m new_tracing_count \u001b[38;5;241m=\u001b[39m \u001b[38;5;28mself\u001b[39m\u001b[38;5;241m.\u001b[39mexperimental_get_tracing_count()\n\u001b[0;32m    828\u001b[0m without_tracing \u001b[38;5;241m=\u001b[39m (tracing_count \u001b[38;5;241m==\u001b[39m new_tracing_count)\n",
      "File \u001b[1;32m~\\anaconda3\\envs\\Tensorflow\\lib\\site-packages\\tensorflow\\python\\eager\\polymorphic_function\\polymorphic_function.py:857\u001b[0m, in \u001b[0;36mFunction._call\u001b[1;34m(self, *args, **kwds)\u001b[0m\n\u001b[0;32m    854\u001b[0m   \u001b[38;5;28mself\u001b[39m\u001b[38;5;241m.\u001b[39m_lock\u001b[38;5;241m.\u001b[39mrelease()\n\u001b[0;32m    855\u001b[0m   \u001b[38;5;66;03m# In this case we have created variables on the first call, so we run the\u001b[39;00m\n\u001b[0;32m    856\u001b[0m   \u001b[38;5;66;03m# defunned version which is guaranteed to never create variables.\u001b[39;00m\n\u001b[1;32m--> 857\u001b[0m   \u001b[38;5;28;01mreturn\u001b[39;00m \u001b[38;5;28mself\u001b[39m\u001b[38;5;241m.\u001b[39m_no_variable_creation_fn(\u001b[38;5;241m*\u001b[39margs, \u001b[38;5;241m*\u001b[39m\u001b[38;5;241m*\u001b[39mkwds)  \u001b[38;5;66;03m# pylint: disable=not-callable\u001b[39;00m\n\u001b[0;32m    858\u001b[0m \u001b[38;5;28;01melif\u001b[39;00m \u001b[38;5;28mself\u001b[39m\u001b[38;5;241m.\u001b[39m_variable_creation_fn \u001b[38;5;129;01mis\u001b[39;00m \u001b[38;5;129;01mnot\u001b[39;00m \u001b[38;5;28;01mNone\u001b[39;00m:\n\u001b[0;32m    859\u001b[0m   \u001b[38;5;66;03m# Release the lock early so that multiple threads can perform the call\u001b[39;00m\n\u001b[0;32m    860\u001b[0m   \u001b[38;5;66;03m# in parallel.\u001b[39;00m\n\u001b[0;32m    861\u001b[0m   \u001b[38;5;28mself\u001b[39m\u001b[38;5;241m.\u001b[39m_lock\u001b[38;5;241m.\u001b[39mrelease()\n",
      "File \u001b[1;32m~\\anaconda3\\envs\\Tensorflow\\lib\\site-packages\\tensorflow\\python\\eager\\polymorphic_function\\tracing_compiler.py:148\u001b[0m, in \u001b[0;36mTracingCompiler.__call__\u001b[1;34m(self, *args, **kwargs)\u001b[0m\n\u001b[0;32m    145\u001b[0m \u001b[38;5;28;01mwith\u001b[39;00m \u001b[38;5;28mself\u001b[39m\u001b[38;5;241m.\u001b[39m_lock:\n\u001b[0;32m    146\u001b[0m   (concrete_function,\n\u001b[0;32m    147\u001b[0m    filtered_flat_args) \u001b[38;5;241m=\u001b[39m \u001b[38;5;28mself\u001b[39m\u001b[38;5;241m.\u001b[39m_maybe_define_function(args, kwargs)\n\u001b[1;32m--> 148\u001b[0m \u001b[38;5;28;01mreturn\u001b[39;00m \u001b[43mconcrete_function\u001b[49m\u001b[38;5;241;43m.\u001b[39;49m\u001b[43m_call_flat\u001b[49m\u001b[43m(\u001b[49m\n\u001b[0;32m    149\u001b[0m \u001b[43m    \u001b[49m\u001b[43mfiltered_flat_args\u001b[49m\u001b[43m,\u001b[49m\u001b[43m \u001b[49m\u001b[43mcaptured_inputs\u001b[49m\u001b[38;5;241;43m=\u001b[39;49m\u001b[43mconcrete_function\u001b[49m\u001b[38;5;241;43m.\u001b[39;49m\u001b[43mcaptured_inputs\u001b[49m\u001b[43m)\u001b[49m\n",
      "File \u001b[1;32m~\\anaconda3\\envs\\Tensorflow\\lib\\site-packages\\tensorflow\\python\\eager\\polymorphic_function\\monomorphic_function.py:1349\u001b[0m, in \u001b[0;36mConcreteFunction._call_flat\u001b[1;34m(self, args, captured_inputs)\u001b[0m\n\u001b[0;32m   1345\u001b[0m possible_gradient_type \u001b[38;5;241m=\u001b[39m gradients_util\u001b[38;5;241m.\u001b[39mPossibleTapeGradientTypes(args)\n\u001b[0;32m   1346\u001b[0m \u001b[38;5;28;01mif\u001b[39;00m (possible_gradient_type \u001b[38;5;241m==\u001b[39m gradients_util\u001b[38;5;241m.\u001b[39mPOSSIBLE_GRADIENT_TYPES_NONE\n\u001b[0;32m   1347\u001b[0m     \u001b[38;5;129;01mand\u001b[39;00m executing_eagerly):\n\u001b[0;32m   1348\u001b[0m   \u001b[38;5;66;03m# No tape is watching; skip to running the function.\u001b[39;00m\n\u001b[1;32m-> 1349\u001b[0m   \u001b[38;5;28;01mreturn\u001b[39;00m \u001b[38;5;28mself\u001b[39m\u001b[38;5;241m.\u001b[39m_build_call_outputs(\u001b[38;5;28;43mself\u001b[39;49m\u001b[38;5;241;43m.\u001b[39;49m\u001b[43m_inference_function\u001b[49m\u001b[43m(\u001b[49m\u001b[38;5;241;43m*\u001b[39;49m\u001b[43margs\u001b[49m\u001b[43m)\u001b[49m)\n\u001b[0;32m   1350\u001b[0m forward_backward \u001b[38;5;241m=\u001b[39m \u001b[38;5;28mself\u001b[39m\u001b[38;5;241m.\u001b[39m_select_forward_and_backward_functions(\n\u001b[0;32m   1351\u001b[0m     args,\n\u001b[0;32m   1352\u001b[0m     possible_gradient_type,\n\u001b[0;32m   1353\u001b[0m     executing_eagerly)\n\u001b[0;32m   1354\u001b[0m forward_function, args_with_tangents \u001b[38;5;241m=\u001b[39m forward_backward\u001b[38;5;241m.\u001b[39mforward()\n",
      "File \u001b[1;32m~\\anaconda3\\envs\\Tensorflow\\lib\\site-packages\\tensorflow\\python\\eager\\polymorphic_function\\atomic_function.py:196\u001b[0m, in \u001b[0;36mAtomicFunction.__call__\u001b[1;34m(self, *args)\u001b[0m\n\u001b[0;32m    194\u001b[0m \u001b[38;5;28;01mwith\u001b[39;00m record\u001b[38;5;241m.\u001b[39mstop_recording():\n\u001b[0;32m    195\u001b[0m   \u001b[38;5;28;01mif\u001b[39;00m \u001b[38;5;28mself\u001b[39m\u001b[38;5;241m.\u001b[39m_bound_context\u001b[38;5;241m.\u001b[39mexecuting_eagerly():\n\u001b[1;32m--> 196\u001b[0m     outputs \u001b[38;5;241m=\u001b[39m \u001b[38;5;28;43mself\u001b[39;49m\u001b[38;5;241;43m.\u001b[39;49m\u001b[43m_bound_context\u001b[49m\u001b[38;5;241;43m.\u001b[39;49m\u001b[43mcall_function\u001b[49m\u001b[43m(\u001b[49m\n\u001b[0;32m    197\u001b[0m \u001b[43m        \u001b[49m\u001b[38;5;28;43mself\u001b[39;49m\u001b[38;5;241;43m.\u001b[39;49m\u001b[43mname\u001b[49m\u001b[43m,\u001b[49m\n\u001b[0;32m    198\u001b[0m \u001b[43m        \u001b[49m\u001b[38;5;28;43mlist\u001b[39;49m\u001b[43m(\u001b[49m\u001b[43margs\u001b[49m\u001b[43m)\u001b[49m\u001b[43m,\u001b[49m\n\u001b[0;32m    199\u001b[0m \u001b[43m        \u001b[49m\u001b[38;5;28;43mlen\u001b[39;49m\u001b[43m(\u001b[49m\u001b[38;5;28;43mself\u001b[39;49m\u001b[38;5;241;43m.\u001b[39;49m\u001b[43mfunction_type\u001b[49m\u001b[38;5;241;43m.\u001b[39;49m\u001b[43mflat_outputs\u001b[49m\u001b[43m)\u001b[49m\u001b[43m,\u001b[49m\n\u001b[0;32m    200\u001b[0m \u001b[43m    \u001b[49m\u001b[43m)\u001b[49m\n\u001b[0;32m    201\u001b[0m   \u001b[38;5;28;01melse\u001b[39;00m:\n\u001b[0;32m    202\u001b[0m     outputs \u001b[38;5;241m=\u001b[39m make_call_op_in_graph(\u001b[38;5;28mself\u001b[39m, \u001b[38;5;28mlist\u001b[39m(args))\n",
      "File \u001b[1;32m~\\anaconda3\\envs\\Tensorflow\\lib\\site-packages\\tensorflow\\python\\eager\\context.py:1457\u001b[0m, in \u001b[0;36mContext.call_function\u001b[1;34m(self, name, tensor_inputs, num_outputs)\u001b[0m\n\u001b[0;32m   1455\u001b[0m cancellation_context \u001b[38;5;241m=\u001b[39m cancellation\u001b[38;5;241m.\u001b[39mcontext()\n\u001b[0;32m   1456\u001b[0m \u001b[38;5;28;01mif\u001b[39;00m cancellation_context \u001b[38;5;129;01mis\u001b[39;00m \u001b[38;5;28;01mNone\u001b[39;00m:\n\u001b[1;32m-> 1457\u001b[0m   outputs \u001b[38;5;241m=\u001b[39m \u001b[43mexecute\u001b[49m\u001b[38;5;241;43m.\u001b[39;49m\u001b[43mexecute\u001b[49m\u001b[43m(\u001b[49m\n\u001b[0;32m   1458\u001b[0m \u001b[43m      \u001b[49m\u001b[43mname\u001b[49m\u001b[38;5;241;43m.\u001b[39;49m\u001b[43mdecode\u001b[49m\u001b[43m(\u001b[49m\u001b[38;5;124;43m\"\u001b[39;49m\u001b[38;5;124;43mutf-8\u001b[39;49m\u001b[38;5;124;43m\"\u001b[39;49m\u001b[43m)\u001b[49m\u001b[43m,\u001b[49m\n\u001b[0;32m   1459\u001b[0m \u001b[43m      \u001b[49m\u001b[43mnum_outputs\u001b[49m\u001b[38;5;241;43m=\u001b[39;49m\u001b[43mnum_outputs\u001b[49m\u001b[43m,\u001b[49m\n\u001b[0;32m   1460\u001b[0m \u001b[43m      \u001b[49m\u001b[43minputs\u001b[49m\u001b[38;5;241;43m=\u001b[39;49m\u001b[43mtensor_inputs\u001b[49m\u001b[43m,\u001b[49m\n\u001b[0;32m   1461\u001b[0m \u001b[43m      \u001b[49m\u001b[43mattrs\u001b[49m\u001b[38;5;241;43m=\u001b[39;49m\u001b[43mattrs\u001b[49m\u001b[43m,\u001b[49m\n\u001b[0;32m   1462\u001b[0m \u001b[43m      \u001b[49m\u001b[43mctx\u001b[49m\u001b[38;5;241;43m=\u001b[39;49m\u001b[38;5;28;43mself\u001b[39;49m\u001b[43m,\u001b[49m\n\u001b[0;32m   1463\u001b[0m \u001b[43m  \u001b[49m\u001b[43m)\u001b[49m\n\u001b[0;32m   1464\u001b[0m \u001b[38;5;28;01melse\u001b[39;00m:\n\u001b[0;32m   1465\u001b[0m   outputs \u001b[38;5;241m=\u001b[39m execute\u001b[38;5;241m.\u001b[39mexecute_with_cancellation(\n\u001b[0;32m   1466\u001b[0m       name\u001b[38;5;241m.\u001b[39mdecode(\u001b[38;5;124m\"\u001b[39m\u001b[38;5;124mutf-8\u001b[39m\u001b[38;5;124m\"\u001b[39m),\n\u001b[0;32m   1467\u001b[0m       num_outputs\u001b[38;5;241m=\u001b[39mnum_outputs,\n\u001b[1;32m   (...)\u001b[0m\n\u001b[0;32m   1471\u001b[0m       cancellation_manager\u001b[38;5;241m=\u001b[39mcancellation_context,\n\u001b[0;32m   1472\u001b[0m   )\n",
      "File \u001b[1;32m~\\anaconda3\\envs\\Tensorflow\\lib\\site-packages\\tensorflow\\python\\eager\\execute.py:53\u001b[0m, in \u001b[0;36mquick_execute\u001b[1;34m(op_name, num_outputs, inputs, attrs, ctx, name)\u001b[0m\n\u001b[0;32m     51\u001b[0m \u001b[38;5;28;01mtry\u001b[39;00m:\n\u001b[0;32m     52\u001b[0m   ctx\u001b[38;5;241m.\u001b[39mensure_initialized()\n\u001b[1;32m---> 53\u001b[0m   tensors \u001b[38;5;241m=\u001b[39m \u001b[43mpywrap_tfe\u001b[49m\u001b[38;5;241;43m.\u001b[39;49m\u001b[43mTFE_Py_Execute\u001b[49m\u001b[43m(\u001b[49m\u001b[43mctx\u001b[49m\u001b[38;5;241;43m.\u001b[39;49m\u001b[43m_handle\u001b[49m\u001b[43m,\u001b[49m\u001b[43m \u001b[49m\u001b[43mdevice_name\u001b[49m\u001b[43m,\u001b[49m\u001b[43m \u001b[49m\u001b[43mop_name\u001b[49m\u001b[43m,\u001b[49m\n\u001b[0;32m     54\u001b[0m \u001b[43m                                      \u001b[49m\u001b[43minputs\u001b[49m\u001b[43m,\u001b[49m\u001b[43m \u001b[49m\u001b[43mattrs\u001b[49m\u001b[43m,\u001b[49m\u001b[43m \u001b[49m\u001b[43mnum_outputs\u001b[49m\u001b[43m)\u001b[49m\n\u001b[0;32m     55\u001b[0m \u001b[38;5;28;01mexcept\u001b[39;00m core\u001b[38;5;241m.\u001b[39m_NotOkStatusException \u001b[38;5;28;01mas\u001b[39;00m e:\n\u001b[0;32m     56\u001b[0m   \u001b[38;5;28;01mif\u001b[39;00m name \u001b[38;5;129;01mis\u001b[39;00m \u001b[38;5;129;01mnot\u001b[39;00m \u001b[38;5;28;01mNone\u001b[39;00m:\n",
      "\u001b[1;31mKeyboardInterrupt\u001b[0m: "
     ]
    }
   ],
   "source": [
    "%%time\n",
    "\n",
    "# ORIGINAL LSTM\n",
    "tf.keras.utils.set_random_seed(100)\n",
    "weight_LSTM = portfolio_paper.optimize(\"LSTM\")"
   ]
  },
  {
   "cell_type": "code",
   "execution_count": 3,
   "id": "fb31644e-7d15-4cdc-9520-7b5b1a55c9fb",
   "metadata": {
    "tags": []
   },
   "outputs": [
    {
     "ename": "NameError",
     "evalue": "name 'weight_LSTM' is not defined",
     "output_type": "error",
     "traceback": [
      "\u001b[1;31m---------------------------------------------------------------------------\u001b[0m",
      "\u001b[1;31mNameError\u001b[0m                                 Traceback (most recent call last)",
      "Cell \u001b[1;32mIn[3], line 2\u001b[0m\n\u001b[0;32m      1\u001b[0m \u001b[38;5;66;03m# static allocations\u001b[39;00m\n\u001b[1;32m----> 2\u001b[0m weight_alloc_1 \u001b[38;5;241m=\u001b[39m \u001b[43mweight_LSTM\u001b[49m\u001b[38;5;241m.\u001b[39mcopy()\n\u001b[0;32m      3\u001b[0m weight_alloc_2 \u001b[38;5;241m=\u001b[39m weight_LSTM\u001b[38;5;241m.\u001b[39mcopy()\n\u001b[0;32m      4\u001b[0m weight_alloc_3 \u001b[38;5;241m=\u001b[39m weight_LSTM\u001b[38;5;241m.\u001b[39mcopy()\n",
      "\u001b[1;31mNameError\u001b[0m: name 'weight_LSTM' is not defined"
     ]
    }
   ],
   "source": [
    "# static allocations\n",
    "weight_alloc_1 = weight_LSTM.copy()\n",
    "weight_alloc_2 = weight_LSTM.copy()\n",
    "weight_alloc_3 = weight_LSTM.copy()\n",
    "weight_alloc_4 = weight_LSTM.copy()\n",
    "weight_alloc_1[\"Weight\"] = 1/4\n",
    "weight_alloc_2.loc[weight_alloc_2[\"Ticker\"] == \"VTI\", \"Weight\"] = 1/2\n",
    "weight_alloc_2.loc[weight_alloc_2[\"Ticker\"] == \"AGG\", \"Weight\"] = 1/10\n",
    "weight_alloc_2.loc[weight_alloc_2[\"Ticker\"] == \"DBC\", \"Weight\"] = 1/5\n",
    "weight_alloc_2.loc[weight_alloc_2[\"Ticker\"] == \"VIX\", \"Weight\"] = 1/5\n",
    "weight_alloc_3.loc[weight_alloc_3[\"Ticker\"] == \"VTI\", \"Weight\"] = 1/10\n",
    "weight_alloc_3.loc[weight_alloc_3[\"Ticker\"] == \"AGG\", \"Weight\"] = 1/2\n",
    "weight_alloc_3.loc[weight_alloc_3[\"Ticker\"] == \"DBC\", \"Weight\"] = 1/5\n",
    "weight_alloc_3.loc[weight_alloc_3[\"Ticker\"] == \"VIX\", \"Weight\"] = 1/5\n",
    "weight_alloc_4.loc[weight_alloc_4[\"Ticker\"] == \"VTI\", \"Weight\"] = 2/5\n",
    "weight_alloc_4.loc[weight_alloc_4[\"Ticker\"] == \"AGG\", \"Weight\"] = 2/5\n",
    "weight_alloc_4.loc[weight_alloc_4[\"Ticker\"] == \"DBC\", \"Weight\"] = 1/10\n",
    "weight_alloc_4.loc[weight_alloc_4[\"Ticker\"] == \"VIX\", \"Weight\"] = 1/10\n",
    "\n",
    "# benchmarks\n",
    "weight_variance = portfolio_paper.optimize(\"variance\")\n",
    "weight_sharpe = portfolio_paper.optimize(\"sharpe\")\n",
    "weight_markowitz3 = portfolio_paper.optimize(\"markowitz3\")\n",
    "weight_DR = portfolio_paper.optimize(\"divers_ratio\")\n",
    "weight_MRC = portfolio_paper.optimize(\"marginal_risk_contribution\")"
   ]
  },
  {
   "cell_type": "code",
   "execution_count": null,
   "id": "182d0a44-ec81-4a18-b241-91e0fa12b1bd",
   "metadata": {
    "tags": []
   },
   "outputs": [],
   "source": [
    "%%time\n",
    "display_backtest_results(\n",
    "    [weight_alloc_1, \n",
    "     weight_alloc_2, \n",
    "     weight_alloc_3, \n",
    "     weight_alloc_4,\n",
    "     # weight_variance,\n",
    "     weight_sharpe,\n",
    "     # weight_markowitz3,\n",
    "     weight_DR,\n",
    "     # weight_MRC,\n",
    "     weight_LSTM, \n",
    "    ], \n",
    "    [\"Allocation 1\", \"Allocation 2\", \"Allocation 3\", \"Allocation 4\",\n",
    "     # \"minVar\",\n",
    "     \"maxSharpe\", \n",
    "     # \"Markowitz 3.0\", \n",
    "     \"maxDR\", \n",
    "     # \"minMRC\",\n",
    "     \"LSTM\"\n",
    "    ]\n",
    ")"
   ]
  },
  {
   "cell_type": "markdown",
   "id": "e455487e-0e74-42fa-b03a-a670a0d86337",
   "metadata": {},
   "source": [
    "# Model Improvement 1: loss function & L2 Reg"
   ]
  },
  {
   "cell_type": "code",
   "execution_count": null,
   "id": "7288113c",
   "metadata": {
    "scrolled": true,
    "tags": []
   },
   "outputs": [],
   "source": [
    "%%time\n",
    "\n",
    "tf.keras.utils.set_random_seed(100)\n",
    "# weight_LSTM_return = portfolio_paper.optimize(\"LSTM\", loss = \"return\")\n",
    "weight_LSTM_convex = portfolio_paper.optimize(\"LSTM\", loss = \"convex\")\n",
    "weight_LSTM_reg = portfolio_paper.optimize(\"LSTM\", reg = True)\n",
    "# weight_LSTM_sortino = portfolio_paper.optimize(\"LSTM\", loss = \"sortino\")\n",
    "# weight_LSTM_sortino_convex = portfolio_paper.optimize(\"LSTM\", loss = \"sortino_convex\")"
   ]
  },
  {
   "cell_type": "markdown",
   "id": "226c1db7-2d77-4b46-a3a8-2b901081a8b0",
   "metadata": {
    "tags": []
   },
   "source": [
    "# Model Improvement 2: Structural Change - Autoencoder"
   ]
  },
  {
   "cell_type": "code",
   "execution_count": null,
   "id": "7b0729b1-5a1c-440f-8b97-cb6bf955f768",
   "metadata": {},
   "outputs": [],
   "source": [
    "%%time\n",
    "\n",
    "tf.keras.utils.set_random_seed(110)\n",
    "weight_LSTM_autoencoder = portfolio_paper.optimize(\"LSTM\",\n",
    "                                                   loss = \"convex\", \n",
    "                                                   structure_change = \"autoencoder\")"
   ]
  },
  {
   "cell_type": "code",
   "execution_count": null,
   "id": "4dbbc54b-b1a4-4a85-9162-82f8a4ac4c9c",
   "metadata": {
    "tags": []
   },
   "outputs": [],
   "source": [
    "%%time\n",
    "display_backtest_results(\n",
    "    [weight_LSTM,\n",
    "     weight_LSTM_convex,\n",
    "     weight_LSTM_autoencoder,\n",
    "    ],\n",
    "    [\"LSTM_paper\", \"LSTM_convex\", \"LSTM_autoencoder_convex\"]\n",
    ")"
   ]
  },
  {
   "cell_type": "code",
   "execution_count": null,
   "id": "36bbb151-0195-45f8-9cfc-b55d84181d97",
   "metadata": {
    "tags": []
   },
   "outputs": [],
   "source": [
    "weight_LSTM_autoencoder.pivot(index='Date', columns='Ticker', values='Weight').plot(figsize=(10, 6))\n",
    "plt.title('Weight by Ticker Time Series (LSTM w/ AutoEncoder)');"
   ]
  },
  {
   "cell_type": "markdown",
   "id": "a1b220cc-4870-4cc6-9683-aec814fd3071",
   "metadata": {},
   "source": [
    "# Model Improvement 3: SAE_CNN_LSTM"
   ]
  },
  {
   "cell_type": "code",
   "execution_count": null,
   "id": "c3e56218-2f91-40aa-94eb-8a07e25e6b19",
   "metadata": {
    "scrolled": true,
    "tags": []
   },
   "outputs": [],
   "source": [
    "%%time\n",
    "\n",
    "tf.keras.utils.set_random_seed(100)\n",
    "weight_CNN_SAE_LSTM = portfolio_paper.optimize(\"LSTM\",\n",
    "                                               loss = \"convex\", structure_change = \"CNN_SAE_LSTM\")\n",
    "\n",
    "tf.keras.utils.set_random_seed(100)\n",
    "weight_SAE_CNN_LSTM = portfolio_paper.optimize(\"LSTM\",\n",
    "                                               loss = \"convex\", structure_change = \"SAE_CNN_LSTM\")\n",
    "\n",
    "tf.keras.utils.set_random_seed(100)\n",
    "weight_SAE_3CNN_LSTM = portfolio_paper.optimize(\"LSTM\",\n",
    "                                                loss = \"convex\", structure_change = \"SAE_3CNN_LSTM\")\n",
    "\n",
    "tf.keras.utils.set_random_seed(100)\n",
    "weight_SAE_3CNN_LSTM_reg = portfolio_paper.optimize(\"LSTM\",\n",
    "                                                loss = \"convex\", structure_change = \"SAE_3CNN_LSTM\",\n",
    "                                                reg = True)"
   ]
  },
  {
   "cell_type": "code",
   "execution_count": null,
   "id": "bfc87c0b-795e-4876-b392-23d72ddb3eba",
   "metadata": {},
   "outputs": [],
   "source": [
    "%%time\n",
    "display_backtest_results(\n",
    "    [weight_LSTM,\n",
    "     weight_CNN_SAE_LSTM, \n",
    "     weight_SAE_CNN_LSTM,\n",
    "     weight_SAE_3CNN_LSTM,\n",
    "     weight_SAE_3CNN_LSTM_reg,\n",
    "    ],\n",
    "    [\"LSTM_paper\", \"CNN_SAE_LSTM\", \"SAE_CNN_LSTM\", \"SAE_3CNN_LSTM\", \"SAE_3CNN_LSTM_reg\"]\n",
    ")"
   ]
  },
  {
   "cell_type": "code",
   "execution_count": null,
   "id": "20fd0360-3920-4541-bb42-aa754b381066",
   "metadata": {
    "tags": []
   },
   "outputs": [],
   "source": [
    "weight_SAE_3CNN_LSTM.pivot(index='Date', columns='Ticker', values='Weight').plot(figsize=(10, 6))\n",
    "plt.title('Weight by Ticker Time Series (SAE-3CNN-LSTM)');"
   ]
  },
  {
   "cell_type": "markdown",
   "id": "17bab457-735c-4361-84f1-2917845f499b",
   "metadata": {},
   "source": [
    "# Model Improvement 4: Double LSTM"
   ]
  },
  {
   "cell_type": "code",
   "execution_count": null,
   "id": "5e3db7b0-a125-40cc-ba15-50bae77954bb",
   "metadata": {},
   "outputs": [],
   "source": [
    "%%time\n",
    "\n",
    "tf.keras.utils.set_random_seed(100)\n",
    "weight_DOUBLE_LSTM = portfolio_paper.optimize(\"LSTM\", \n",
    "                                              loss = \"convex\", \n",
    "                                              structure_change = \"DOUBLE_LSTM\")  \n",
    "weight_DOUBLE_LSTM_reg = portfolio_paper.optimize(\"LSTM\", \n",
    "                                                  loss = \"convex\", \n",
    "                                                  structure_change = \"DOUBLE_LSTM\", \n",
    "                                                  reg= True)"
   ]
  },
  {
   "cell_type": "code",
   "execution_count": null,
   "id": "1589bccb-ad4a-4f9a-8bf6-0b87a6cda4a6",
   "metadata": {
    "tags": []
   },
   "outputs": [],
   "source": [
    "%%time\n",
    "display_backtest_results(\n",
    "    [weight_LSTM,\n",
    "     weight_DOUBLE_LSTM,\n",
    "     weight_DOUBLE_LSTM_reg\n",
    "    ],\n",
    "    [\"LSTM_paper\", \"DOUBLE_LSTM\", \"DOUBLE_LSTM_reg\"]\n",
    ")"
   ]
  },
  {
   "cell_type": "markdown",
   "id": "9dcd859d-3406-4ee3-bcc0-c495d449285a",
   "metadata": {},
   "source": [
    "# Other Improvement: Increase Rebalance Frequency"
   ]
  },
  {
   "cell_type": "code",
   "execution_count": null,
   "id": "80d9954d-b6fe-423b-add0-8e58dcd138ec",
   "metadata": {
    "tags": []
   },
   "outputs": [],
   "source": [
    "weight_sharpe_monthly = portfolio_paper.optimize(\"sharpe\",\n",
    "                                                 rebalance_frequency = 21\n",
    "                                                )"
   ]
  },
  {
   "cell_type": "code",
   "execution_count": null,
   "id": "ed347a2e-10b5-4058-ac3a-c7cf4b32d583",
   "metadata": {
    "scrolled": true,
    "tags": []
   },
   "outputs": [],
   "source": [
    "%%time\n",
    "\n",
    "tf.keras.utils.set_random_seed(100)\n",
    "weight_LSTM_monthly = portfolio_paper.optimize(\"LSTM\",\n",
    "                                               rebalance_frequency = 21)"
   ]
  },
  {
   "cell_type": "code",
   "execution_count": null,
   "id": "a7158cfd-64e7-4b41-a2d0-a222a1fa7ceb",
   "metadata": {
    "scrolled": true,
    "tags": []
   },
   "outputs": [],
   "source": [
    "%%time\n",
    "\n",
    "tf.keras.utils.set_random_seed(100)\n",
    "weight_LSTM_convex_monthly = portfolio_paper.optimize(\"LSTM\",\n",
    "                                                       loss = \"convex\", \n",
    "                                                       rebalance_frequency = 21\n",
    "                                                      )"
   ]
  },
  {
   "cell_type": "code",
   "execution_count": null,
   "id": "f92f584e-2b42-4524-a3a7-494b3568f0ba",
   "metadata": {
    "scrolled": true,
    "tags": []
   },
   "outputs": [],
   "source": [
    "%%time\n",
    "\n",
    "tf.keras.utils.set_random_seed(100)\n",
    "weight_SAE_CNN_LSTM_monthly = portfolio_paper.optimize(\"LSTM\",\n",
    "                                                       loss = \"convex\", \n",
    "                                                       structure_change = \"SAE_CNN_LSTM\",\n",
    "                                                       rebalance_frequency = 21\n",
    "                                                      )"
   ]
  },
  {
   "cell_type": "code",
   "execution_count": null,
   "id": "56066c85-d4ba-4cb9-bb32-7bb561e8c34a",
   "metadata": {
    "scrolled": true,
    "tags": []
   },
   "outputs": [],
   "source": [
    "%%time\n",
    "\n",
    "tf.keras.utils.set_random_seed(100)\n",
    "weight_SAE_3CNN_LSTM_monthly = portfolio_paper.optimize(\"LSTM\",\n",
    "                                                       loss = \"convex\", \n",
    "                                                       structure_change = \"SAE_3CNN_LSTM\",\n",
    "                                                       rebalance_frequency = 21\n",
    "                                                      )"
   ]
  },
  {
   "cell_type": "code",
   "execution_count": null,
   "id": "747fa184-5311-49a4-b914-a5505302d185",
   "metadata": {
    "scrolled": true,
    "tags": []
   },
   "outputs": [],
   "source": [
    "%%time\n",
    "\n",
    "tf.keras.utils.set_random_seed(100)\n",
    "weight_double_LSTM_monthly = portfolio_paper.optimize(\"LSTM\",\n",
    "                                                       loss = \"convex\", \n",
    "                                                       structure_change = \"DOUBLE_LSTM\",\n",
    "                                                       rebalance_frequency = 21\n",
    "                                                      )"
   ]
  },
  {
   "cell_type": "code",
   "execution_count": null,
   "id": "06f5d383-c063-41be-9a64-59bcc9ac6118",
   "metadata": {
    "tags": []
   },
   "outputs": [],
   "source": [
    "display_backtest_results(\n",
    "    [weight_LSTM,\n",
    "     weight_LSTM_monthly,\n",
    "     weight_sharpe_monthly,\n",
    "     weight_LSTM_convex_monthly,\n",
    "     weight_SAE_CNN_LSTM_monthly,\n",
    "     weight_SAE_3CNN_LSTM_monthly,\n",
    "     weight_double_LSTM_monthly\n",
    "    ],\n",
    "    [\"paper_LSTM_annual\", \n",
    "     \"paper_LSTM_monthly\", \n",
    "     \"sharpe_monthly\",\n",
    "     \"LSTM_convex_monthly\",\n",
    "     \"SAE_CNN_LSTM_monthly\", \n",
    "     \"SAE_3CNN_LSTM_monthly\", \n",
    "     \"double_LSTM_monthly\"]\n",
    ")"
   ]
  }
 ],
 "metadata": {
  "kernelspec": {
   "display_name": "Python 3 (ipykernel)",
   "language": "python",
   "name": "python3"
  },
  "language_info": {
   "codemirror_mode": {
    "name": "ipython",
    "version": 3
   },
   "file_extension": ".py",
   "mimetype": "text/x-python",
   "name": "python",
   "nbconvert_exporter": "python",
   "pygments_lexer": "ipython3",
   "version": "3.10.13"
  }
 },
 "nbformat": 4,
 "nbformat_minor": 5
}
